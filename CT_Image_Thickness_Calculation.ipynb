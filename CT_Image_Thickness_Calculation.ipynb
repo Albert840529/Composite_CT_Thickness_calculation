{
  "cells": [
    {
      "cell_type": "markdown",
      "metadata": {
        "id": "view-in-github",
        "colab_type": "text"
      },
      "source": [
        "<a href=\"https://colab.research.google.com/github/Albert840529/Composite_CT_Thickness_calculation/blob/main/CT_Image_Thickness_Calculation.ipynb\" target=\"_parent\"><img src=\"https://colab.research.google.com/assets/colab-badge.svg\" alt=\"Open In Colab\"/></a>"
      ]
    },
    {
      "cell_type": "markdown",
      "source": [
        "# Connect to googel drive"
      ],
      "metadata": {
        "id": "ura7sW8tgFUv"
      }
    },
    {
      "cell_type": "code",
      "execution_count": null,
      "metadata": {
        "colab": {
          "base_uri": "https://localhost:8080/"
        },
        "id": "Lq4pUfOL-Esy",
        "outputId": "2b88bc57-017d-4ab5-8956-6d3dc635f7e5"
      },
      "outputs": [
        {
          "output_type": "stream",
          "name": "stdout",
          "text": [
            "Mounted at /content/drive\n"
          ]
        }
      ],
      "source": [
        "from google.colab import drive\n",
        "drive.mount('/content/drive')"
      ]
    },
    {
      "cell_type": "markdown",
      "source": [
        "# Test loading the image and see how it looks like. After Ostu method, got the threshold value."
      ],
      "metadata": {
        "id": "Ei2L3pSFgKrX"
      }
    },
    {
      "cell_type": "code",
      "execution_count": null,
      "metadata": {
        "id": "qR_Ib3Nz-NbC"
      },
      "outputs": [],
      "source": [
        "# /content/drive/MyDrive/Colab Notebooks/test/IPP15_10.jpg\n",
        "import cv2\n",
        "from google.colab.patches import cv2_imshow\n",
        "\n",
        "# Load the image (Please use your own route for the image you want to analyze)\n",
        "img = cv2.imread(\"/content/drive/MyDrive/Colab Notebooks/test/Ipp_15_10_crop.jpg\", 0)\n",
        "\n",
        "# Apply Otsu's method to find the threshold value\n",
        "ret, thresh = cv2.threshold(img, 0, 255, cv2.THRESH_BINARY + cv2.THRESH_OTSU)\n",
        "\n",
        "# Display the binary image\n",
        "cv2_imshow(thresh)"
      ]
    },
    {
      "cell_type": "markdown",
      "source": [
        "# Test the code for calculating the aggregate gypsum thickness on one image"
      ],
      "metadata": {
        "id": "JvExIFWwgfvk"
      }
    },
    {
      "cell_type": "code",
      "execution_count": null,
      "metadata": {
        "id": "byKJowgDBTx7"
      },
      "outputs": [],
      "source": [
        "import numpy as np\n",
        "\n",
        "def one_image_thickness(height, width, thresh):\n",
        "    avg_white_pixels = []\n",
        "    for w in range(width):\n",
        "        white_pixels = []\n",
        "        for h in range(height):\n",
        "            if thresh[h,w] == 255:\n",
        "                white_pixels.append(h)\n",
        "        if len(white_pixels) > 0:\n",
        "            white_pixels = np.array(white_pixels)\n",
        "            diff = np.diff(white_pixels)\n",
        "            continuous = np.where(diff > 1)[0]\n",
        "            if len(continuous) > 0:\n",
        "                segments = np.split(white_pixels, continuous + 1)\n",
        "                lengths = [len(segment) for segment in segments]\n",
        "                avg_white_pixels.append(sum(lengths) / len(lengths))\n",
        "            else:\n",
        "                avg_white_pixels.append(len(white_pixels))\n",
        "        else:\n",
        "            avg_white_pixels.append(0)\n",
        "    return avg_white_pixels\n",
        "\n",
        "height, width = thresh.shape\n",
        "avg_white_pixels = one_image_thickness(height, width, thresh)\n",
        "\n",
        "# Display the average continuous white pixels at each width position\n",
        "# print(avg_white_pixels)\n",
        "# print(np.mean(avg_white_pixels)*7.5, np.std(avg_white_pixels))"
      ]
    },
    {
      "cell_type": "markdown",
      "source": [
        "# Code for read all image and calculate gypsum thickness for all image, output into csv file. "
      ],
      "metadata": {
        "id": "R3gojcKWwhtR"
      }
    },
    {
      "cell_type": "code",
      "execution_count": null,
      "metadata": {
        "id": "SXjF3bcDr1xe"
      },
      "outputs": [],
      "source": [
        "import cv2\n",
        "import numpy as np\n",
        "import os\n",
        "import csv\n",
        "\n",
        "def calculate_thickness(input_dirs, pixel_size=7.5):\n",
        "    i = 1\n",
        "    for input_dir in input_dirs:\n",
        "        print(f'Runnning {i} of {len(input_dirs)} folders')\n",
        "        print(f'Now working on {input_dir}...............')\n",
        "         # Define the output directory as the same as input directory\n",
        "        output_dir = input_dir\n",
        "\n",
        "        # Define the output CSV file name as the same as the input directory name\n",
        "        output_file = os.path.join(output_dir, os.path.basename(input_dir) + '.csv')\n",
        "        # Initialize the output CSV file\n",
        "        with open(output_file, 'w', newline='') as csvfile:\n",
        "            writer = csv.writer(csvfile)\n",
        "            writer.writerow(['Image Name', 'Average White Pixels', 'Standard Deviation', 'Average Thickness(µm)', 'Standard Deviation of Thickness', 'UTS (MPa)',\n",
        "                             'Elongation at break (%)', \"Young's Modulus (GPa)\" ])\n",
        "\n",
        "        # Loop over all the images in the input directory\n",
        "        for filename in os.listdir(input_dir):\n",
        "            if filename.endswith('.jpg') or filename.endswith('.png'):\n",
        "                # Load the binary image\n",
        "                img = cv2.imread(os.path.join(input_dir, filename), 0)\n",
        "                ret, thresh = cv2.threshold(img, 0, 255, cv2.THRESH_BINARY + cv2.THRESH_OTSU)\n",
        "\n",
        "                # Scan each width position and compute the average continuous white pixels\n",
        "                height, width = thresh.shape\n",
        "                avg_white_pixels = one_image_thickness(height, width, thresh)\n",
        "\n",
        "                # Compute the average and standard deviation of the average continuous white pixels\n",
        "                avg = np.mean(avg_white_pixels)\n",
        "                std = np.std(avg_white_pixels)\n",
        "                avg_thickness = avg * pixel_size\n",
        "                std_thickness = std * pixel_size\n",
        "                folder_name = os.path.basename(os.path.normpath(input_dir))\n",
        "                uts_value = folder_name.split('_')[-3]\n",
        "                elongation = float(folder_name.split('_')[-1])\n",
        "                ym = float(folder_name.split('_')[-2])\n",
        "\n",
        "                # Append the data to the output CSV file\n",
        "                with open(output_file, 'a', newline='') as csvfile:\n",
        "                    writer = csv.writer(csvfile)\n",
        "                    writer.writerow([filename, avg, std, avg_thickness, std_thickness, uts_value, elongation, ym])\n",
        "\n",
        "        i += 1\n"
      ]
    },
    {
      "cell_type": "code",
      "source": [
        "def get_folders(path):\n",
        "    folders = []\n",
        "    for root, dirs, files in os.walk(path):\n",
        "        for dir in dirs:\n",
        "            print(dir)\n",
        "            folders.append(os.path.join(root, dir))\n",
        "    return folders\n",
        "\n",
        "# Route for all images you want to analyze \n",
        "folders = get_folders('/content/drive/MyDrive/Colab Notebooks/MatSE597/Project/test')"
      ],
      "metadata": {
        "id": "kdRd012WsUJo"
      },
      "execution_count": null,
      "outputs": []
    },
    {
      "cell_type": "code",
      "source": [
        "# In each subfolder, you will have the analyzed CSV file with the calculated thickness\n",
        "calculate_thickness(folders)"
      ],
      "metadata": {
        "colab": {
          "base_uri": "https://localhost:8080/"
        },
        "id": "cjA2aIfPsxlN",
        "outputId": "89e55fc2-fc36-44f5-d878-fc2d4b134cc2"
      },
      "execution_count": null,
      "outputs": [
        {
          "output_type": "stream",
          "name": "stdout",
          "text": [
            "Runnning 1 of 2 folders\n",
            "Now working on /content/drive/MyDrive/Colab Notebooks/MatSE597/Project/test/IPP_5%_6_0.88_2.22_1.45...............\n",
            "Runnning 2 of 2 folders\n",
            "Now working on /content/drive/MyDrive/Colab Notebooks/MatSE597/Project/test/R_10_IPP_20%_3_4.46_2.01_1.33...............\n"
          ]
        }
      ]
    }
  ],
  "metadata": {
    "colab": {
      "provenance": [],
      "authorship_tag": "ABX9TyOOsr+CB1BJUxDSzx0uVFbG",
      "include_colab_link": true
    },
    "kernelspec": {
      "display_name": "Python 3",
      "name": "python3"
    },
    "language_info": {
      "name": "python"
    }
  },
  "nbformat": 4,
  "nbformat_minor": 0
}
